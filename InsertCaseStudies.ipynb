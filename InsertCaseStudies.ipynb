{
 "cells": [
  {
   "cell_type": "code",
   "execution_count": 13,
   "metadata": {
    "collapsed": false
   },
   "outputs": [
    {
     "name": "stdout",
     "output_type": "stream",
     "text": [
      "(0, 3.1523311138153076)\n",
      "(1000, 3.1797521114349365)\n",
      "(2000, 3.206402063369751)\n",
      "(3000, 3.243040084838867)\n",
      "(4000, 3.2730050086975098)\n",
      "(5000, 3.389425039291382)\n",
      "(6000, 3.4063620567321777)\n"
     ]
    },
    {
     "data": {
      "text/plain": [
       "6637"
      ]
     },
     "execution_count": 13,
     "metadata": {},
     "output_type": "execute_result"
    }
   ],
   "source": [
    "# For saving the processed output to disk\n",
    "import numpy as np\n",
    "\n",
    "import sys\n",
    "sys.setrecursionlimit(100)\n",
    "\n",
    "# For timing\n",
    "import time\n",
    "\n",
    "import json\n",
    "from pprint import pprint\n",
    "\n",
    "# Extracts the information from a single case study, creates a payload object containing the corpusID and API key ready to be sent\n",
    "def case_study_insert_request(caseStudy, corpus_id, api_key):\n",
    "\n",
    "    # Create payload structure\n",
    "    payload = {}\n",
    "    payload['properties'] = {}\n",
    "    payload['properties']['type'] = \"article\"\n",
    "    \n",
    "    # Pteraforma API stuff\n",
    "    payload['api_key'] = api_key\n",
    "    payload['corpus'] = corpus_id\n",
    "    payload['options'] = {\n",
    "        'doTemporal': True,\n",
    "        'doGeo': True,\n",
    "        'doGeoboost': True\n",
    "    }\n",
    "    \n",
    "    # Process bilographic header information\n",
    "    payload['title'] = caseStudy[\"Title\"]\n",
    "    payload['properties']['CaseStudyId'] = caseStudy[\"CaseStudyId\"]\n",
    "    \n",
    "    payload['properties']['Continent'] = caseStudy[\"Continent\"]\n",
    "    payload['properties']['Country'] = caseStudy[\"Country\"]\n",
    "    payload['properties']['PlaceName'] = caseStudy[\"PlaceName\"]\n",
    "    payload['properties']['UKLocation'] = caseStudy[\"UKLocation\"]\n",
    "    payload['properties']['UKRegion'] = caseStudy[\"UKRegion\"]\n",
    "    \n",
    "    payload['properties']['Funders'] = caseStudy[\"Funders\"]\n",
    "    payload['properties']['Panel'] = caseStudy[\"Panel\"]\n",
    "    payload['properties']['ResearchSubjectAreas'] = caseStudy[\"ResearchSubjectAreas\"]\n",
    "    payload['properties']['UOA'] = caseStudy[\"UOA\"]\n",
    "    payload['properties']['ImpactType'] = caseStudy[\"ImpactType\"]\n",
    "    payload['properties']['Institution'] = caseStudy[\"Institution\"]\n",
    "    \n",
    "    payload['properties']['References'] = caseStudy[\"References\"]\n",
    "    payload['properties']['Sources'] = caseStudy[\"Sources\"]\n",
    "    \n",
    "    \n",
    "    ##\n",
    "    ## Here are where the choices about how to strucutre the document go\n",
    "    ## I have made it match the expected style, but it should be easy to change to just inserting a single paragraph for instance\n",
    "    ##\n",
    "    \n",
    "    payload['sections'] = []\n",
    "    \n",
    "    ## Impact Summary\n",
    "    sectionTitle = \"Impact Summary\"\n",
    "    sectionType = \"Impact Summary\"\n",
    "    sectionParagraphs = []\n",
    "    sectionReferences = []\n",
    "    payload['sections'].append({ \"title\": sectionTitle, \"type\": sectionType , \"number\": \"0\", \"paragraphs\": sectionParagraphs, \"references\": sectionReferences})\n",
    "    \n",
    "    ## Underpinning Research\n",
    "    sectionTitle = \"Underpinning Research\"\n",
    "    sectionType = \"Underpinning Research\"\n",
    "    sectionParagraphs = []\n",
    "    sectionReferences = []\n",
    "    payload['sections'].append({ \"title\": sectionTitle, \"type\": sectionType , \"number\": \"1\", \"paragraphs\": sectionParagraphs, \"references\": sectionReferences})\n",
    "    \n",
    "    ## Impact Details\n",
    "    sectionTitle = \"Impact Details\"\n",
    "    sectionType = \"Impact Details\"\n",
    "    sectionParagraphs = []\n",
    "    sectionReferences = []\n",
    "    payload['sections'].append({ \"title\": sectionTitle, \"type\": sectionType , \"number\": \"2\", \"paragraphs\": sectionParagraphs, \"references\": sectionReferences})\n",
    "    \n",
    "    \n",
    "    # Return the Payload\n",
    "    return payload\n",
    "\n",
    "\n",
    "# Method for process the entire archive (change the glob regex to change that scope)\n",
    "def process_case_studies(filename, api_key, corpus_id):\n",
    "\n",
    "    # Measuring execution time\n",
    "    start = time.time()\n",
    "    \n",
    "    dataArray = []\n",
    "    maxNum = 7000;\n",
    "    count = 0\n",
    "\n",
    "    # Load JSON File\n",
    "    with open(filename) as data_file:    \n",
    "        allStudies = json.load(data_file)\n",
    "        \n",
    "        # Loop over each case study in the json file\n",
    "        for caseStudy in allStudies:\n",
    "            # Creates the request object, this is the point of extension for integration with Pteraforma\n",
    "            request = case_study_insert_request(caseStudy, corpus_id, api_key)\n",
    "\n",
    "            # Logging code for feedback, remove if run in production\n",
    "            if (count % 1000 == 0):\n",
    "                print(count, time.time() - start)\n",
    "\n",
    "            # Saving the result\n",
    "            dataArray.append(request)\n",
    "\n",
    "            # Implements a cut off number to processm, helpful for testing\n",
    "            count = count + 1\n",
    "            if (count > maxNum):\n",
    "                break\n",
    "    return dataArray\n",
    "    \n",
    "    \n",
    "# parameters\n",
    "api_key = \"a1df798b5a10274bf32106303e91f05f\"\n",
    "corpus_id = 52\n",
    "file_name = \"allStudies.json\"\n",
    "\n",
    "dataArray = process_case_studies(file_name, api_key, corpus_id)\n",
    "len(dataArray)"
   ]
  },
  {
   "cell_type": "code",
   "execution_count": 12,
   "metadata": {
    "collapsed": false
   },
   "outputs": [
    {
     "data": {
      "text/plain": [
       "6637"
      ]
     },
     "execution_count": 12,
     "metadata": {},
     "output_type": "execute_result"
    }
   ],
   "source": [
    "len(dataArray)"
   ]
  },
  {
   "cell_type": "code",
   "execution_count": null,
   "metadata": {
    "collapsed": true
   },
   "outputs": [],
   "source": []
  }
 ],
 "metadata": {
  "kernelspec": {
   "display_name": "Python 2",
   "language": "python",
   "name": "python2"
  },
  "language_info": {
   "codemirror_mode": {
    "name": "ipython",
    "version": 2
   },
   "file_extension": ".py",
   "mimetype": "text/x-python",
   "name": "python",
   "nbconvert_exporter": "python",
   "pygments_lexer": "ipython2",
   "version": "2.7.11"
  }
 },
 "nbformat": 4,
 "nbformat_minor": 0
}
